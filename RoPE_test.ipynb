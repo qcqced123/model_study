{
 "cells": [
  {
   "cell_type": "code",
   "outputs": [],
   "source": [
    "import torch\n",
    "import torch.nn as nn\n",
    "import torch.nn.functional as F\n",
    "from torch import Tensor\n",
    "import experiment.metrics.metric as metric\n",
    "from experiment.metrics.metric import cosine_similarity"
   ],
   "metadata": {
    "collapsed": false,
    "ExecuteTime": {
     "end_time": "2024-03-05T01:00:41.931977Z",
     "start_time": "2024-03-05T01:00:41.929800Z"
    }
   },
   "id": "f1b867fbf9578cf4",
   "execution_count": 57
  },
  {
   "cell_type": "code",
   "outputs": [
    {
     "data": {
      "text/plain": "device(type='cuda')"
     },
     "execution_count": 58,
     "metadata": {},
     "output_type": "execute_result"
    }
   ],
   "source": [
    "\"\"\" set default device to mps \"\"\"\n",
    "\n",
    "device = torch.device(\"cuda\" if torch.cuda.is_available() else \"mps\")\n",
    "device"
   ],
   "metadata": {
    "collapsed": false,
    "ExecuteTime": {
     "end_time": "2024-03-05T01:00:42.141588Z",
     "start_time": "2024-03-05T01:00:42.138690Z"
    }
   },
   "id": "eedaeeb4c236e989",
   "execution_count": 58
  },
  {
   "cell_type": "code",
   "outputs": [
    {
     "name": "stdout",
     "output_type": "stream",
     "text": [
      "kv: (torch.Size([3, 4, 2, 2]), tensor([[[[1.7760, 0.9382],\n",
      "          [1.2940, 1.0944]],\n",
      "\n",
      "         [[0.7967, 0.8208],\n",
      "          [1.3244, 1.1668]],\n",
      "\n",
      "         [[0.4309, 0.6075],\n",
      "          [0.9261, 1.2308]],\n",
      "\n",
      "         [[1.3843, 0.6364],\n",
      "          [1.2941, 0.5551]]],\n",
      "\n",
      "\n",
      "        [[[1.4896, 0.9172],\n",
      "          [1.2615, 0.7836]],\n",
      "\n",
      "         [[1.3163, 1.5713],\n",
      "          [1.9485, 1.5012]],\n",
      "\n",
      "         [[1.7230, 1.3599],\n",
      "          [3.2276, 1.3330]],\n",
      "\n",
      "         [[1.2585, 1.2368],\n",
      "          [1.6088, 1.2347]]],\n",
      "\n",
      "\n",
      "        [[[1.6051, 1.7729],\n",
      "          [1.5359, 1.7443]],\n",
      "\n",
      "         [[1.1341, 1.1649],\n",
      "          [0.7636, 0.8279]],\n",
      "\n",
      "         [[1.6401, 1.0038],\n",
      "          [1.7896, 1.0531]],\n",
      "\n",
      "         [[1.3386, 1.7346],\n",
      "          [1.2602, 1.5568]]]], device='cuda:0'))\n",
      "z: (torch.Size([3, 5, 4]), tensor([[[0.3682, 0.5243, 0.7795, 1.6903],\n",
      "         [0.2804, 0.7735, 1.2015, 0.6638],\n",
      "         [0.9432, 0.3087, 0.6284, 0.3832],\n",
      "         [0.9655, 0.2853, 0.4717, 1.1024],\n",
      "         [1.1407, 0.3286, 0.3315, 0.9654]],\n",
      "\n",
      "        [[0.4614, 0.3833, 0.2139, 0.2663],\n",
      "         [0.6430, 0.4507, 0.2142, 0.6894],\n",
      "         [0.4485, 1.3990, 0.2802, 0.4014],\n",
      "         [1.8100, 0.2840, 0.4460, 0.2880],\n",
      "         [0.5127, 0.3743, 0.3325, 0.3261]],\n",
      "\n",
      "        [[0.3031, 0.3569, 0.3929, 0.2449],\n",
      "         [0.3158, 0.8827, 0.3236, 0.3196],\n",
      "         [0.3105, 1.6926, 0.2314, 1.1049],\n",
      "         [0.2785, 0.2427, 1.0411, 0.2162],\n",
      "         [0.3299, 0.2839, 0.4237, 1.5301]]], device='cuda:0'))\n",
      "qkv: (torch.Size([3, 5, 4, 2]), tensor([[[[1.5391, 1.2636],\n",
      "          [0.6648, 1.0439],\n",
      "          [0.4064, 0.8589],\n",
      "          [0.3675, 0.3230]],\n",
      "\n",
      "         [[1.9758, 1.7578],\n",
      "          [0.4109, 0.5880],\n",
      "          [0.2763, 0.5657],\n",
      "          [0.9307, 0.8439]],\n",
      "\n",
      "         [[0.5878, 0.5215],\n",
      "          [1.0624, 1.5722],\n",
      "          [0.5084, 1.0683],\n",
      "          [1.6112, 1.4666]],\n",
      "\n",
      "         [[0.5766, 0.5043],\n",
      "          [1.1964, 1.8422],\n",
      "          [0.6842, 1.4280],\n",
      "          [0.5597, 0.5114]],\n",
      "\n",
      "         [[0.5101, 0.3789],\n",
      "          [1.0371, 1.5943],\n",
      "          [0.9813, 2.0369],\n",
      "          [0.6423, 0.5705]]],\n",
      "\n",
      "\n",
      "        [[[1.0470, 0.8877],\n",
      "          [1.3429, 1.7842],\n",
      "          [2.3872, 3.5352],\n",
      "          [1.6619, 1.7811]],\n",
      "\n",
      "         [[0.7372, 0.6258],\n",
      "          [1.0731, 1.5587],\n",
      "          [2.4430, 3.4204],\n",
      "          [0.5887, 0.7320]],\n",
      "\n",
      "         [[1.0747, 0.9114],\n",
      "          [0.4385, 0.4466],\n",
      "          [1.9546, 2.4585],\n",
      "          [1.1164, 1.1700]],\n",
      "\n",
      "         [[0.2416, 0.2061],\n",
      "          [2.0189, 2.2844],\n",
      "          [1.1905, 1.6128],\n",
      "          [1.5415, 1.6426]],\n",
      "\n",
      "         [[0.8740, 0.7444],\n",
      "          [1.3249, 1.8573],\n",
      "          [1.6286, 2.1059],\n",
      "          [1.3278, 1.4789]]],\n",
      "\n",
      "\n",
      "        [[[2.0741, 2.0217],\n",
      "          [1.1356, 0.7917],\n",
      "          [1.4476, 1.5659],\n",
      "          [2.1217, 1.9271]],\n",
      "\n",
      "         [[1.9561, 1.9187],\n",
      "          [0.4523, 0.3209],\n",
      "          [1.7652, 1.9008],\n",
      "          [1.6677, 1.5036]],\n",
      "\n",
      "         [[2.0403, 1.9832],\n",
      "          [0.2456, 0.1663],\n",
      "          [2.4741, 2.6584],\n",
      "          [0.4493, 0.4137]],\n",
      "\n",
      "         [[2.3108, 2.2335],\n",
      "          [1.6942, 1.1620],\n",
      "          [0.5469, 0.5910],\n",
      "          [2.3158, 2.1267]],\n",
      "\n",
      "         [[1.9391, 1.8782],\n",
      "          [1.4203, 0.9960],\n",
      "          [1.3477, 1.4518],\n",
      "          [0.3494, 0.3148]]]], device='cuda:0'))\n",
      "V: (torch.Size([3, 5, 4, 2]), tensor([[[[0.5667, 0.4652],\n",
      "          [0.3486, 0.5473],\n",
      "          [0.3168, 0.6695],\n",
      "          [0.6211, 0.5460]],\n",
      "\n",
      "         [[0.5540, 0.4928],\n",
      "          [0.3178, 0.4548],\n",
      "          [0.3320, 0.6797],\n",
      "          [0.6178, 0.5602]],\n",
      "\n",
      "         [[0.5544, 0.4918],\n",
      "          [0.3280, 0.4854],\n",
      "          [0.3195, 0.6713],\n",
      "          [0.6174, 0.5620]],\n",
      "\n",
      "         [[0.5567, 0.4869],\n",
      "          [0.3413, 0.5256],\n",
      "          [0.3227, 0.6735],\n",
      "          [0.6170, 0.5637]],\n",
      "\n",
      "         [[0.5819, 0.4322],\n",
      "          [0.3408, 0.5238],\n",
      "          [0.3253, 0.6753],\n",
      "          [0.6200, 0.5508]]],\n",
      "\n",
      "\n",
      "        [[[0.4831, 0.4096],\n",
      "          [0.5148, 0.6839],\n",
      "          [0.5105, 0.7561],\n",
      "          [0.4426, 0.4743]],\n",
      "\n",
      "         [[0.4740, 0.4024],\n",
      "          [0.4837, 0.7026],\n",
      "          [0.5234, 0.7328],\n",
      "          [0.4058, 0.5046]],\n",
      "\n",
      "         [[0.4820, 0.4087],\n",
      "          [0.6135, 0.6247],\n",
      "          [0.5477, 0.6889],\n",
      "          [0.4481, 0.4697]],\n",
      "\n",
      "         [[0.4372, 0.3730],\n",
      "          [0.5734, 0.6488],\n",
      "          [0.5309, 0.7192],\n",
      "          [0.4440, 0.4731]],\n",
      "\n",
      "         [[0.4480, 0.3816],\n",
      "          [0.4959, 0.6952],\n",
      "          [0.5415, 0.7002],\n",
      "          [0.4330, 0.4822]]],\n",
      "\n",
      "\n",
      "        [[[0.6286, 0.6127],\n",
      "          [0.4054, 0.2826],\n",
      "          [0.5688, 0.6153],\n",
      "          [0.5195, 0.4719]],\n",
      "\n",
      "         [[0.6177, 0.6059],\n",
      "          [0.3992, 0.2832],\n",
      "          [0.5713, 0.6152],\n",
      "          [0.5329, 0.4805]],\n",
      "\n",
      "         [[0.6334, 0.6157],\n",
      "          [0.4156, 0.2815],\n",
      "          [0.5725, 0.6151],\n",
      "          [0.4964, 0.4571]],\n",
      "\n",
      "         [[0.6435, 0.6220],\n",
      "          [0.4112, 0.2820],\n",
      "          [0.5694, 0.6153],\n",
      "          [0.5006, 0.4597]],\n",
      "\n",
      "         [[0.6396, 0.6196],\n",
      "          [0.4033, 0.2828],\n",
      "          [0.5710, 0.6152],\n",
      "          [0.5347, 0.4816]]]], device='cuda:0'))\n",
      "test_v: (torch.Size([3, 5, 4, 2]), tensor([[[[0.5667, 0.4652],\n",
      "          [0.3486, 0.5473],\n",
      "          [0.3168, 0.6695],\n",
      "          [0.6211, 0.5460]],\n",
      "\n",
      "         [[0.5540, 0.4928],\n",
      "          [0.3178, 0.4548],\n",
      "          [0.3320, 0.6797],\n",
      "          [0.6178, 0.5602]],\n",
      "\n",
      "         [[0.5544, 0.4918],\n",
      "          [0.3280, 0.4854],\n",
      "          [0.3195, 0.6713],\n",
      "          [0.6174, 0.5620]],\n",
      "\n",
      "         [[0.5567, 0.4869],\n",
      "          [0.3413, 0.5256],\n",
      "          [0.3227, 0.6735],\n",
      "          [0.6170, 0.5637]],\n",
      "\n",
      "         [[0.5819, 0.4322],\n",
      "          [0.3408, 0.5238],\n",
      "          [0.3253, 0.6753],\n",
      "          [0.6200, 0.5508]]],\n",
      "\n",
      "\n",
      "        [[[0.4831, 0.4096],\n",
      "          [0.5148, 0.6839],\n",
      "          [0.5105, 0.7561],\n",
      "          [0.4426, 0.4743]],\n",
      "\n",
      "         [[0.4740, 0.4024],\n",
      "          [0.4837, 0.7026],\n",
      "          [0.5234, 0.7328],\n",
      "          [0.4058, 0.5046]],\n",
      "\n",
      "         [[0.4820, 0.4087],\n",
      "          [0.6135, 0.6247],\n",
      "          [0.5477, 0.6889],\n",
      "          [0.4481, 0.4697]],\n",
      "\n",
      "         [[0.4372, 0.3730],\n",
      "          [0.5734, 0.6488],\n",
      "          [0.5309, 0.7192],\n",
      "          [0.4440, 0.4731]],\n",
      "\n",
      "         [[0.4480, 0.3816],\n",
      "          [0.4959, 0.6952],\n",
      "          [0.5415, 0.7002],\n",
      "          [0.4330, 0.4822]]],\n",
      "\n",
      "\n",
      "        [[[0.6286, 0.6127],\n",
      "          [0.4054, 0.2826],\n",
      "          [0.5688, 0.6153],\n",
      "          [0.5195, 0.4719]],\n",
      "\n",
      "         [[0.6177, 0.6059],\n",
      "          [0.3992, 0.2832],\n",
      "          [0.5713, 0.6152],\n",
      "          [0.5329, 0.4805]],\n",
      "\n",
      "         [[0.6334, 0.6157],\n",
      "          [0.4156, 0.2815],\n",
      "          [0.5725, 0.6151],\n",
      "          [0.4964, 0.4571]],\n",
      "\n",
      "         [[0.6435, 0.6220],\n",
      "          [0.4112, 0.2820],\n",
      "          [0.5694, 0.6153],\n",
      "          [0.5006, 0.4597]],\n",
      "\n",
      "         [[0.6396, 0.6196],\n",
      "          [0.4033, 0.2828],\n",
      "          [0.5710, 0.6152],\n",
      "          [0.5347, 0.4816]]]], device='cuda:0'))\n"
     ]
    }
   ],
   "source": [
    "\"\"\" source code from original linear transformers paper github\n",
    "\"\"\"\n",
    "\n",
    "max_seq = 5\n",
    "dim_model = 8\n",
    "num_heads = 4\n",
    "dim_head = dim_model // num_heads\n",
    "batch_size = 3\n",
    "\n",
    "# 3, 5, 4, 2\n",
    "query = torch.rand(batch_size, max_seq, num_heads, dim_head, device=device)\n",
    "key = torch.rand(batch_size, max_seq, num_heads, dim_head, device=device)\n",
    "value = torch.rand(batch_size, max_seq, num_heads, dim_head, device=device)\n",
    "\n",
    "kv = torch.einsum(\"nshd,nshm->nhmd\", key, value)\n",
    "print(f\"kv: {kv.shape, kv}\")\n",
    "\n",
    "z = 1/(torch.einsum(\"nlhd,nhd->nlh\", query, key.sum(dim=1))+1e-6)\n",
    "print(f\"z: {z.shape, z}\")\n",
    "\n",
    "qkv = torch.einsum(\"nlhd,nhmd->nlhm\", query, kv)\n",
    "print(f\"qkv: {qkv.shape, qkv}\")\n",
    "\n",
    "V = torch.einsum(\"nlhd,nhmd,nlh->nlhm\", query, kv, z)\n",
    "print(f\"V: {V.shape, V}\")\n",
    "\n",
    "test_v = torch.einsum(\"nlhm,nlh->nlhm\", qkv, z)\n",
    "print(f\"test_v: {test_v.shape, test_v}\")"
   ],
   "metadata": {
    "collapsed": false,
    "ExecuteTime": {
     "end_time": "2024-03-05T01:56:31.051411Z",
     "start_time": "2024-03-05T01:56:31.027921Z"
    }
   },
   "id": "79e47d3676ad6a6d",
   "execution_count": 97
  },
  {
   "cell_type": "code",
   "outputs": [
    {
     "name": "stdout",
     "output_type": "stream",
     "text": [
      "KV: (torch.Size([3, 2, 2]), tensor([[[1.6945, 2.5599],\n",
      "         [1.6986, 2.4920]],\n",
      "\n",
      "        [[3.7326, 3.1925],\n",
      "         [3.5027, 3.1093]],\n",
      "\n",
      "        [[1.4581, 2.1359],\n",
      "         [2.1605, 2.8166]]], device='cuda:0'))\n",
      "Z: (torch.Size([3, 5]), tensor([[5.9278e-02, 8.4242e-02, 8.2484e-02, 1.0000e+06, 1.0000e+06],\n",
      "        [4.6290e-02, 4.3917e-02, 6.5639e-02, 6.5267e-02, 1.0000e+06],\n",
      "        [1.0978e-01, 1.0496e-01, 1.0000e+06, 1.0000e+06, 1.0000e+06]],\n",
      "       device='cuda:0'))\n",
      "V: (torch.Size([3, 5, 2]), tensor([[[0.9854, 0.9707],\n",
      "         [1.0248, 1.0095],\n",
      "         [1.0131, 0.9979],\n",
      "         [0.0000, 0.0000],\n",
      "         [0.0000, 0.0000]],\n",
      "\n",
      "        [[1.1236, 1.0728],\n",
      "         [1.1181, 1.0675],\n",
      "         [1.1167, 1.0662],\n",
      "         [1.1213, 1.0706],\n",
      "         [0.0000, 0.0000]],\n",
      "\n",
      "        [[1.0962, 1.5180],\n",
      "         [1.1320, 1.5677],\n",
      "         [0.0000, 0.0000],\n",
      "         [0.0000, 0.0000],\n",
      "         [0.0000, 0.0000]]], device='cuda:0'))\n"
     ]
    }
   ],
   "source": [
    "\"\"\" alias of each tensor dimension for torch einsum\n",
    "b: batch_size\n",
    "s: sequence length\n",
    "q: dim_head of query\n",
    "k: dim_head of key\n",
    "v: dim_head of value\n",
    "\"\"\"\n",
    "def kernel_fn(x: Tensor):\n",
    "    return F.elu(x) + 1\n",
    "\n",
    "query = torch.rand(batch_size, max_seq, dim_head, device=device)\n",
    "key = torch.rand(batch_size, max_seq, dim_head, device=device)\n",
    "value = torch.rand(batch_size, max_seq, dim_head, device=device)\n",
    "padding_mask = torch.tensor([\n",
    "    [0, 0, 0, 1, 1],\n",
    "    [0, 0, 0, 0, 1],\n",
    "    [0, 0, 1, 1, 1]],\n",
    "    device=device\n",
    ")\n",
    "query, key = kernel_fn(query), kernel_fn(key)\n",
    "query[padding_mask == 1], key[padding_mask == 1], value[padding_mask == 1] = 0, 0, 0\n",
    "\n",
    "KV = torch.matmul(value.permute(0, 2, 1), key.permute(0, 1, 2))\n",
    "print(f\"KV: {KV.shape, KV}\")\n",
    "\n",
    "Z = 1 / torch.clamp(torch.mul(query,key.sum(dim=1).unsqueeze(1)).sum(dim=-1), min=1e-6)\n",
    "print(f\"Z: {Z.shape, Z}\")\n",
    "\n",
    "V = torch.einsum(\"bsq,bvk,bs->bsv\", query, KV, Z)\n",
    "print(f\"V: {V.shape, V}\")"
   ],
   "metadata": {
    "collapsed": false,
    "ExecuteTime": {
     "end_time": "2024-03-05T02:09:58.073747Z",
     "start_time": "2024-03-05T02:09:58.058927Z"
    }
   },
   "id": "87b8384ff530d8c3",
   "execution_count": 114
  },
  {
   "cell_type": "code",
   "outputs": [
    {
     "ename": "RuntimeError",
     "evalue": "permute(sparse_coo): number of dimensions in the tensor input does not match the length of the desired ordering of dimensions i.e. input.dim() = 3 is not equal to len(dims) = 4",
     "output_type": "error",
     "traceback": [
      "\u001B[0;31m---------------------------------------------------------------------------\u001B[0m",
      "\u001B[0;31mRuntimeError\u001B[0m                              Traceback (most recent call last)",
      "\u001B[0;32m/tmp/ipykernel_5978/1009954256.py\u001B[0m in \u001B[0;36m<module>\u001B[0;34m\u001B[0m\n\u001B[1;32m      1\u001B[0m \u001B[0;31m# [bs, num_heads, dim_head, max_seq]*[bs, num_heads, max_seq, dim_head] = [bs, num_heads, dim_head, dim_head]\u001B[0m\u001B[0;34m\u001B[0m\u001B[0;34m\u001B[0m\u001B[0m\n\u001B[0;32m----> 2\u001B[0;31m \u001B[0mKV\u001B[0m \u001B[0;34m=\u001B[0m \u001B[0mtorch\u001B[0m\u001B[0;34m.\u001B[0m\u001B[0mmatmul\u001B[0m\u001B[0;34m(\u001B[0m\u001B[0mvalue\u001B[0m\u001B[0;34m.\u001B[0m\u001B[0mpermute\u001B[0m\u001B[0;34m(\u001B[0m\u001B[0;36m0\u001B[0m\u001B[0;34m,\u001B[0m \u001B[0;36m2\u001B[0m\u001B[0;34m,\u001B[0m \u001B[0;36m3\u001B[0m\u001B[0;34m,\u001B[0m \u001B[0;36m1\u001B[0m\u001B[0;34m)\u001B[0m\u001B[0;34m,\u001B[0m \u001B[0mkey\u001B[0m\u001B[0;34m.\u001B[0m\u001B[0mpermute\u001B[0m\u001B[0;34m(\u001B[0m\u001B[0;36m0\u001B[0m\u001B[0;34m,\u001B[0m \u001B[0;36m2\u001B[0m\u001B[0;34m,\u001B[0m \u001B[0;36m1\u001B[0m\u001B[0;34m,\u001B[0m \u001B[0;36m3\u001B[0m\u001B[0;34m)\u001B[0m\u001B[0;34m)\u001B[0m\u001B[0;34m\u001B[0m\u001B[0;34m\u001B[0m\u001B[0m\n\u001B[0m\u001B[1;32m      3\u001B[0m \u001B[0mprint\u001B[0m\u001B[0;34m(\u001B[0m\u001B[0;34mf\"KV: {KV.shape, KV}\"\u001B[0m\u001B[0;34m)\u001B[0m\u001B[0;34m\u001B[0m\u001B[0;34m\u001B[0m\u001B[0m\n\u001B[1;32m      4\u001B[0m \u001B[0;34m\u001B[0m\u001B[0m\n\u001B[1;32m      5\u001B[0m \u001B[0;31m# print(f\"query: {query.shape}\")\u001B[0m\u001B[0;34m\u001B[0m\u001B[0;34m\u001B[0m\u001B[0m\n",
      "\u001B[0;31mRuntimeError\u001B[0m: permute(sparse_coo): number of dimensions in the tensor input does not match the length of the desired ordering of dimensions i.e. input.dim() = 3 is not equal to len(dims) = 4"
     ]
    }
   ],
   "source": [
    "# [bs, num_heads, dim_head, max_seq]*[bs, num_heads, max_seq, dim_head] = [bs, num_heads, dim_head, dim_head]\n",
    "KV = torch.matmul(value.permute(0, 2, 3, 1), key.permute(0, 2, 1, 3))  \n",
    "print(f\"KV: {KV.shape, KV}\")\n",
    "\n",
    "# print(f\"query: {query.shape}\")\n",
    "# print(f\"key sum: {key.sum(dim=1).shape}\")\n",
    "# \n",
    "# Z = 1 / torch.clamp(torch.mul(query,key.sum(dim=1).unsqueeze(1)).sum(dim=-1), min=1e-6)\n",
    "# print(f\"Z: {Z.shape}\")\n",
    "# \n",
    "# QKV = torch.matmul(query, KV)\n",
    "# print(f\"QKV: {QKV.shape, QKV}\")\n",
    "# \n",
    "# V = torch.mul(QKV, Z.unsqueeze(-1))\n",
    "# print(f\"V: {V.shape, V}\")"
   ],
   "metadata": {
    "collapsed": false,
    "ExecuteTime": {
     "end_time": "2024-03-05T01:59:04.898208Z",
     "start_time": "2024-03-05T01:59:04.888769Z"
    }
   },
   "id": "aa54418f2826a466",
   "execution_count": 104
  },
  {
   "cell_type": "code",
   "outputs": [
    {
     "ename": "RuntimeError",
     "evalue": "shape '[3, 5, 2]' is invalid for input of size 120",
     "output_type": "error",
     "traceback": [
      "\u001B[0;31m---------------------------------------------------------------------------\u001B[0m",
      "\u001B[0;31mRuntimeError\u001B[0m                              Traceback (most recent call last)",
      "\u001B[0;32m/tmp/ipykernel_5978/321065780.py\u001B[0m in \u001B[0;36m<module>\u001B[0;34m\u001B[0m\n\u001B[0;32m----> 1\u001B[0;31m \u001B[0mtest_query\u001B[0m \u001B[0;34m=\u001B[0m \u001B[0mquery\u001B[0m\u001B[0;34m.\u001B[0m\u001B[0mreshape\u001B[0m\u001B[0;34m(\u001B[0m\u001B[0mbatch_size\u001B[0m\u001B[0;34m,\u001B[0m \u001B[0mmax_seq\u001B[0m\u001B[0;34m,\u001B[0m \u001B[0mdim_head\u001B[0m\u001B[0;34m)\u001B[0m\u001B[0;34m\u001B[0m\u001B[0;34m\u001B[0m\u001B[0m\n\u001B[0m\u001B[1;32m      2\u001B[0m \u001B[0mtest_key\u001B[0m \u001B[0;34m=\u001B[0m \u001B[0mkey\u001B[0m\u001B[0;34m.\u001B[0m\u001B[0mreshape\u001B[0m\u001B[0;34m(\u001B[0m\u001B[0mbatch_size\u001B[0m\u001B[0;34m,\u001B[0m \u001B[0mmax_seq\u001B[0m\u001B[0;34m,\u001B[0m \u001B[0mdim_head\u001B[0m\u001B[0;34m)\u001B[0m\u001B[0;34m\u001B[0m\u001B[0;34m\u001B[0m\u001B[0m\n\u001B[1;32m      3\u001B[0m \u001B[0mtest_value\u001B[0m \u001B[0;34m=\u001B[0m \u001B[0mvalue\u001B[0m\u001B[0;34m.\u001B[0m\u001B[0mreshape\u001B[0m\u001B[0;34m(\u001B[0m\u001B[0mbatch_size\u001B[0m\u001B[0;34m,\u001B[0m \u001B[0mmax_seq\u001B[0m\u001B[0;34m,\u001B[0m \u001B[0mdim_head\u001B[0m\u001B[0;34m)\u001B[0m\u001B[0;34m\u001B[0m\u001B[0;34m\u001B[0m\u001B[0m\n\u001B[1;32m      4\u001B[0m \u001B[0;34m\u001B[0m\u001B[0m\n\u001B[1;32m      5\u001B[0m \u001B[0mKV\u001B[0m \u001B[0;34m=\u001B[0m \u001B[0mtorch\u001B[0m\u001B[0;34m.\u001B[0m\u001B[0mmatmul\u001B[0m\u001B[0;34m(\u001B[0m\u001B[0mtest_key\u001B[0m\u001B[0;34m.\u001B[0m\u001B[0mpermute\u001B[0m\u001B[0;34m(\u001B[0m\u001B[0;36m0\u001B[0m\u001B[0;34m,\u001B[0m \u001B[0;36m2\u001B[0m\u001B[0;34m,\u001B[0m \u001B[0;36m1\u001B[0m\u001B[0;34m)\u001B[0m\u001B[0;34m,\u001B[0m \u001B[0mtest_value\u001B[0m\u001B[0;34m)\u001B[0m\u001B[0;34m\u001B[0m\u001B[0;34m\u001B[0m\u001B[0m\n",
      "\u001B[0;31mRuntimeError\u001B[0m: shape '[3, 5, 2]' is invalid for input of size 120"
     ]
    }
   ],
   "source": [
    "# test_query = query.reshape(batch_size, max_seq, dim_head)\n",
    "# test_key = key.reshape(batch_size, max_seq, dim_head)\n",
    "# test_value = value.reshape(batch_size, max_seq, dim_head)\n",
    "# \n",
    "# KV = torch.matmul(test_key.permute(0, 2, 1), test_value)\n",
    "# print(f\"KV: {KV.shape, KV}\")\n",
    "# QKV = torch.matmul(test_query, KV)\n",
    "# print(f\"QKV: {QKV.shape, QKV}\")\n",
    "\n",
    "# summation_key = test_key.sum(dim=1).unsqueeze(1)\n",
    "# print(f\"key, summation_key: {test_key.shape, summation_key.shape}\")\n",
    "# \n",
    "# Z = 1/torch.clamp(torch.mul(test_query, summation_key), min=1e-6)\n",
    "# print(f\"Normalizer Z: {Z, Z.shape}\")\n",
    "# \n",
    "# linear_attn_matrix = torch.matmul(QKV, Z)\n",
    "# print(f\"linear_attn_matrix: {linear_attn_matrix.shape, linear_attn_matrix}\")"
   ],
   "metadata": {
    "collapsed": false,
    "ExecuteTime": {
     "end_time": "2024-03-05T00:13:28.653319Z",
     "start_time": "2024-03-05T00:13:28.647237Z"
    }
   },
   "id": "47061c931e144f11",
   "execution_count": 5
  },
  {
   "cell_type": "code",
   "outputs": [
    {
     "data": {
      "text/plain": "(9663676416, 1207959552, 8)"
     },
     "execution_count": 84,
     "metadata": {},
     "output_type": "execute_result"
    }
   ],
   "source": [
    "quadratic = 512*64*64*512 + 512*512*512*64\n",
    "linear = 64*512*512*64 + 512*64*64*64\n",
    "\n",
    "quadratic, linear, quadratic // linear"
   ],
   "metadata": {
    "collapsed": false,
    "ExecuteTime": {
     "end_time": "2024-03-02T13:30:48.714062Z",
     "start_time": "2024-03-02T13:30:48.709081Z"
    }
   },
   "id": "5c0366bb014d387d",
   "execution_count": 84
  },
  {
   "cell_type": "code",
   "outputs": [
    {
     "data": {
      "text/plain": "(torch.Size([3, 5, 2]),\n torch.Size([3, 5, 2]),\n torch.Size([3, 5, 2]),\n torch.Size([3, 5]))"
     },
     "execution_count": 98,
     "metadata": {},
     "output_type": "execute_result"
    }
   ],
   "source": [
    "\"\"\" Inputs for Linear Attentions\n",
    "\"\"\"\n",
    "\n",
    "max_seq = 5\n",
    "dim_model = 2\n",
    "num_heads = 12\n",
    "batch_size = 3\n",
    "# dim_head = dim_model // num_heads\n",
    "dim_head = dim_model\n",
    "\n",
    "def kernel_fn(x: Tensor):\n",
    "    return F.elu(x) + 1\n",
    "\n",
    "query = torch.rand(batch_size, max_seq, dim_head, device=device)\n",
    "key = torch.rand(batch_size, max_seq, dim_head, device=device)\n",
    "value = torch.rand(batch_size, max_seq, dim_head, device=device)\n",
    "\n",
    "padding_mask = torch.tensor([\n",
    "    [0, 0, 0, 1, 1],\n",
    "    [0, 0, 0, 0, 1],\n",
    "    [0, 0, 1, 1, 1]],\n",
    "    device=device\n",
    ")\n",
    "query.shape, key.shape, value.shape, padding_mask.shape"
   ],
   "metadata": {
    "collapsed": false,
    "ExecuteTime": {
     "end_time": "2024-03-04T16:47:05.824614Z",
     "start_time": "2024-03-04T16:47:05.816133Z"
    }
   },
   "id": "2db69b58bd5032a",
   "execution_count": 98
  },
  {
   "cell_type": "code",
   "outputs": [
    {
     "data": {
      "text/plain": "(tensor([[[1.6423, 2.3725],\n          [1.9186, 2.7227]],\n \n         [[2.5099, 4.3219],\n          [2.0842, 3.6178]],\n \n         [[1.7249, 2.7095],\n          [1.6283, 2.5576]]], device='cuda:0'),\n torch.Size([3, 2, 2]))"
     },
     "execution_count": 99,
     "metadata": {},
     "output_type": "execute_result"
    }
   ],
   "source": [
    "\"\"\" Testing for Linear Attentions: KV Matrix\n",
    "\"\"\"\n",
    "k_query, k_key = kernel_fn(query), kernel_fn(key)\n",
    "k_query[padding_mask == 1], k_key[padding_mask == 1], value[padding_mask == 1] = 0, 0, 0 \n",
    "\n",
    "KV = torch.matmul(k_key.permute(0, 2, 1), value)\n",
    "KV, KV.shape"
   ],
   "metadata": {
    "collapsed": false,
    "ExecuteTime": {
     "end_time": "2024-03-04T16:47:05.999245Z",
     "start_time": "2024-03-04T16:47:05.993702Z"
    }
   },
   "id": "1d4d4a249fb2cf68",
   "execution_count": 99
  },
  {
   "cell_type": "code",
   "outputs": [
    {
     "data": {
      "text/plain": "(tensor([[[ 6.9833,  9.9921],\n          [ 4.8467,  6.9438],\n          [ 5.7299,  8.2035],\n          [ 0.2364,  0.8221],\n          [ 0.5723,  0.9037]],\n \n         [[ 6.3969, 11.0627],\n          [ 6.1451, 10.6128],\n          [ 6.6618, 11.5190],\n          [ 7.9548, 13.7416],\n          [ 0.5258,  0.1820]],\n \n         [[ 4.7064,  7.3925],\n          [ 4.8010,  7.5412],\n          [ 0.4323,  0.3144],\n          [ 0.6062,  0.6203],\n          [ 0.8389,  0.5675]]], device='cuda:0'),\n torch.Size([3, 5, 2]))"
     },
     "execution_count": 100,
     "metadata": {},
     "output_type": "execute_result"
    }
   ],
   "source": [
    "\"\"\" Testing for Linear Attentions: QKV\n",
    "\"\"\"\n",
    "\n",
    "QKV = torch.matmul(k_query, KV)\n",
    "QKV, QKV.shape"
   ],
   "metadata": {
    "collapsed": false,
    "ExecuteTime": {
     "end_time": "2024-03-04T16:47:06.172677Z",
     "start_time": "2024-03-04T16:47:06.166589Z"
    }
   },
   "id": "56d258a4ac1b2e78",
   "execution_count": 100
  },
  {
   "cell_type": "code",
   "outputs": [
    {
     "name": "stdout",
     "output_type": "stream",
     "text": [
      "key, summation_key: (torch.Size([3, 5, 2]), torch.Size([3, 2, 2]))\n",
      "Normalizer Z: (tensor([[[5.6876e-02, 5.6876e-02],\n",
      "         [8.1770e-02, 8.1770e-02],\n",
      "         [6.9246e-02, 6.9246e-02],\n",
      "         [1.0000e+06, 1.0000e+06],\n",
      "         [1.0000e+06, 1.0000e+06]],\n",
      "\n",
      "        [[6.3809e-02, 6.3809e-02],\n",
      "         [6.7458e-02, 6.7458e-02],\n",
      "         [6.1383e-02, 6.1383e-02],\n",
      "         [5.1966e-02, 5.1966e-02],\n",
      "         [1.0000e+06, 1.0000e+06]],\n",
      "\n",
      "        [[9.9465e-02, 9.9465e-02],\n",
      "         [9.7511e-02, 9.7511e-02],\n",
      "         [1.0000e+06, 1.0000e+06],\n",
      "         [1.0000e+06, 1.0000e+06],\n",
      "         [1.0000e+06, 1.0000e+06]]], device='cuda:0'), torch.Size([3, 5, 2]))\n"
     ]
    }
   ],
   "source": [
    "\"\"\" Testing for Linear Attentions: QKV / normalizer Z\n",
    "softmax는 row-wise하게 정규화 하는데, 우리도 똑같이 정규화가 필요하지 않냐고 그래서 Z가 필요\n",
    "여기서, QKV가 결국 row-wise 하게 정규화 되어야 한다는게 포인트임\n",
    "그렇다면 Z의 크기는 16, 512, 64가 되어야 한다\n",
    "\"\"\"\n",
    "\n",
    "summation_key = k_key.sum(dim=1).unsqueeze(1).expand(-1, dim_head, -1).permute(0,2,1)\n",
    "\n",
    "print(f\"key, summation_key: {key.shape, summation_key.shape}\")\n",
    "\n",
    "Z = 1/torch.clamp(torch.matmul(k_query, summation_key), min=1e-6)\n",
    "print(f\"Normalizer Z: {Z, Z.shape}\")"
   ],
   "metadata": {
    "collapsed": false,
    "ExecuteTime": {
     "end_time": "2024-03-04T16:47:09.815960Z",
     "start_time": "2024-03-04T16:47:09.810687Z"
    }
   },
   "id": "4b94b3decb9e4270",
   "execution_count": 101
  },
  {
   "cell_type": "code",
   "outputs": [
    {
     "name": "stdout",
     "output_type": "stream",
     "text": [
      "linear_attn_matrix: (torch.Size([3, 5, 2]), tensor([[[3.9718e-01, 5.6831e-01],\n",
      "         [3.9631e-01, 5.6779e-01],\n",
      "         [3.9677e-01, 5.6806e-01],\n",
      "         [2.3637e+05, 8.2210e+05],\n",
      "         [5.7225e+05, 9.0375e+05]],\n",
      "\n",
      "        [[4.0818e-01, 7.0590e-01],\n",
      "         [4.1454e-01, 7.1592e-01],\n",
      "         [4.0892e-01, 7.0707e-01],\n",
      "         [4.1338e-01, 7.1410e-01],\n",
      "         [5.2581e+05, 1.8200e+05]],\n",
      "\n",
      "        [[4.6812e-01, 7.3529e-01],\n",
      "         [4.6815e-01, 7.3535e-01],\n",
      "         [4.3231e+05, 3.1439e+05],\n",
      "         [6.0615e+05, 6.2035e+05],\n",
      "         [8.3891e+05, 5.6749e+05]]], device='cuda:0'))\n"
     ]
    }
   ],
   "source": [
    "\"\"\" Testing for Linear Attentions: QKV / normalizer Z \n",
    "\"\"\"\n",
    "\n",
    "linear_attn_matrix = torch.mul(QKV, Z)\n",
    "print(f\"linear_attn_matrix: {linear_attn_matrix.shape, linear_attn_matrix}\")"
   ],
   "metadata": {
    "collapsed": false,
    "ExecuteTime": {
     "end_time": "2024-03-04T16:47:12.928666Z",
     "start_time": "2024-03-04T16:47:12.922616Z"
    }
   },
   "id": "65459cc6481c7d45",
   "execution_count": 102
  },
  {
   "cell_type": "code",
   "outputs": [
    {
     "name": "stdout",
     "output_type": "stream",
     "text": [
      "attn_matrix: (torch.Size([3, 5, 5]), tensor([[[0.3713, 0.6363, 1.0094, 0.5870, 0.7410],\n",
      "         [0.1055, 0.2372, 0.3701, 0.2420, 0.2239],\n",
      "         [0.2164, 0.4022, 0.6346, 0.3840, 0.4393],\n",
      "         [0.3069, 0.4024, 0.6519, 0.3202, 0.5834],\n",
      "         [0.1555, 0.2623, 0.4167, 0.2403, 0.3093]],\n",
      "\n",
      "        [[0.2487, 0.1702, 0.1442, 0.2789, 0.3663],\n",
      "         [0.0394, 0.2411, 0.1327, 0.3839, 0.3884],\n",
      "         [0.2519, 0.2133, 0.1670, 0.3475, 0.4341],\n",
      "         [0.2112, 0.4541, 0.2813, 0.7280, 0.7887],\n",
      "         [0.0527, 0.1607, 0.0945, 0.2568, 0.2699]],\n",
      "\n",
      "        [[0.3726, 0.5146, 0.2369, 0.3336, 0.5193],\n",
      "         [0.4214, 0.5751, 0.1496, 0.1591, 0.4101],\n",
      "         [0.7383, 1.0163, 0.4114, 0.5539, 0.9420],\n",
      "         [0.6791, 0.9325, 0.3396, 0.4380, 0.8084],\n",
      "         [0.5018, 0.6880, 0.2337, 0.2919, 0.5716]]], device='cuda:0'))\n",
      "attention_dist: (torch.Size([3, 5, 5]), tensor([[[0.2383, 0.3106, 0.4511, 0.0000, 0.0000],\n",
      "         [0.2904, 0.3313, 0.3783, 0.0000, 0.0000],\n",
      "         [0.2686, 0.3234, 0.4080, 0.0000, 0.0000],\n",
      "         [0.2847, 0.3132, 0.4020, 0.0000, 0.0000],\n",
      "         [0.2931, 0.3262, 0.3806, 0.0000, 0.0000]],\n",
      "\n",
      "        [[0.2593, 0.2398, 0.2336, 0.2673, 0.0000],\n",
      "         [0.2113, 0.2585, 0.2320, 0.2982, 0.0000],\n",
      "         [0.2512, 0.2417, 0.2308, 0.2764, 0.0000],\n",
      "         [0.1990, 0.2538, 0.2135, 0.3337, 0.0000],\n",
      "         [0.2281, 0.2542, 0.2379, 0.2798, 0.0000]],\n",
      "\n",
      "        [[0.4646, 0.5354, 0.0000, 0.0000, 0.0000],\n",
      "         [0.4617, 0.5383, 0.0000, 0.0000, 0.0000],\n",
      "         [0.4310, 0.5690, 0.0000, 0.0000, 0.0000],\n",
      "         [0.4370, 0.5630, 0.0000, 0.0000, 0.0000],\n",
      "         [0.4536, 0.5464, 0.0000, 0.0000, 0.0000]]], device='cuda:0'))\n",
      "attention_matrix: (torch.Size([3, 5, 2]), tensor([[[0.3691, 0.5519],\n",
      "         [0.4015, 0.5708],\n",
      "         [0.3881, 0.5630],\n",
      "         [0.3950, 0.5671],\n",
      "         [0.4020, 0.5712]],\n",
      "\n",
      "        [[0.4038, 0.6930],\n",
      "         [0.4199, 0.7168],\n",
      "         [0.4049, 0.6984],\n",
      "         [0.4116, 0.7319],\n",
      "         [0.4174, 0.7058]],\n",
      "\n",
      "        [[0.4683, 0.7356],\n",
      "         [0.4691, 0.7369],\n",
      "         [0.4780, 0.7515],\n",
      "         [0.4763, 0.7486],\n",
      "         [0.4715, 0.7408]]], device='cuda:0'))\n"
     ]
    }
   ],
   "source": [
    "\"\"\" Comparing with pure self-attention\n",
    "\"\"\"\n",
    "\n",
    "attn_matrix = torch.matmul(query, key.transpose(-1, -2)) / torch.sqrt(torch.tensor(dim_head))\n",
    "print(f\"attn_matrix: {attn_matrix.shape, attn_matrix}\")\n",
    "\n",
    "padding_mask = padding_mask.unsqueeze(1)\n",
    "attn_matrix = attn_matrix.masked_fill(padding_mask == 1, float('-inf'))\n",
    "attention_dist = F.softmax(attn_matrix, dim=-1)\n",
    "print(f\"attention_dist: {attention_dist.shape, attention_dist}\")\n",
    "\n",
    "attention_matrix = torch.matmul(attention_dist, value)\n",
    "print(f\"attention_matrix: {attention_matrix.shape, attention_matrix}\")"
   ],
   "metadata": {
    "collapsed": false,
    "ExecuteTime": {
     "end_time": "2024-03-04T16:47:17.615429Z",
     "start_time": "2024-03-04T16:47:17.591879Z"
    }
   },
   "id": "5b0242ad3d65be20",
   "execution_count": 103
  },
  {
   "cell_type": "code",
   "outputs": [
    {
     "data": {
      "text/plain": "tensor(inf, device='cuda:0')"
     },
     "execution_count": 25,
     "metadata": {},
     "output_type": "execute_result"
    }
   ],
   "source": [
    "\"\"\" Comparing with pure self-attention by KL-divergence\n",
    "배치 별, 평균 총합 0.5 ~ 2 정도 차이남, 이게 보니까 처음에 랜덤 초기화 빨로 갈리네\n",
    "\"\"\"\n",
    "\n",
    "kl_div = F.kl_div(linear_attn_matrix.log(), attention_matrix, reduction='batchmean')\n",
    "kl_div"
   ],
   "metadata": {
    "collapsed": false,
    "ExecuteTime": {
     "end_time": "2024-03-04T13:13:39.924499Z",
     "start_time": "2024-03-04T13:13:39.919385Z"
    }
   },
   "id": "2cdaaf0b6c2d4400",
   "execution_count": 25
  },
  {
   "cell_type": "code",
   "outputs": [
    {
     "data": {
      "text/plain": "tensor([[[-0.0264, -0.0698, -1.3971, -1.5667],\n         [ 0.5706, -1.4718,  0.3398, -0.5280],\n         [ 1.5465,  0.2453,  1.0911,  0.6062],\n         [ 0.0000,  0.0000,  0.0000,  0.0000],\n         [ 0.0000,  0.0000,  0.0000,  0.0000]],\n\n        [[ 0.4773,  1.9033,  0.6571,  0.4388],\n         [ 0.1047, -0.3162, -3.4738, -0.4424],\n         [ 0.4799,  0.7670, -1.0056, -0.4248],\n         [ 1.2279, -0.7639,  1.4043, -0.2604],\n         [ 0.0000,  0.0000,  0.0000,  0.0000]],\n\n        [[-0.1115,  0.3349, -1.0625,  0.5592],\n         [ 0.3361,  1.7460,  1.9226,  0.5757],\n         [ 0.0000,  0.0000,  0.0000,  0.0000],\n         [ 0.0000,  0.0000,  0.0000,  0.0000],\n         [ 0.0000,  0.0000,  0.0000,  0.0000]]], device='cuda:0')"
     },
     "execution_count": 33,
     "metadata": {},
     "output_type": "execute_result"
    }
   ],
   "source": [
    "\"\"\" Test code for applying padding masking to linear attention \"\"\"\n",
    "test_q = torch.randn(3, 5, 4, device=device)\n",
    "test_k = torch.randn(3, 5, 4, device=device)\n",
    "test_v = torch.randn(3, 5, 4, device=device)\n",
    "\n",
    "padding_mask = torch.tensor([\n",
    "    [0, 0, 0, 1, 1],\n",
    "    [0, 0, 0, 0, 1],\n",
    "    [0, 0, 1, 1, 1]],\n",
    "    device=device\n",
    ")\n",
    "test_k[padding_mask == 1] = 0\n",
    "test_k"
   ],
   "metadata": {
    "collapsed": false,
    "ExecuteTime": {
     "end_time": "2024-03-04T04:00:33.032590Z",
     "start_time": "2024-03-04T04:00:33.027595Z"
    }
   },
   "id": "26644eb6ded2d1c8",
   "execution_count": 33
  },
  {
   "cell_type": "code",
   "outputs": [],
   "source": [
    "class RoPE(nn.Module):\n",
    "    def __init__(self, dim_model: int= 768):\n",
    "        super().__init__()\n",
    "        self.dim_model = dim_model\n",
    "        self.i_arr = torch.arange(1, int(dim_model/2)+1)  # 세타값을 살리려면 \n",
    "        self.theta = 10000**(-2*(self.i_arr - 1)/self.dim_model)\n",
    "    \n",
    "    def forward(self):\n",
    "        print(self.i_arr.shape)\n",
    "        print(self.i_arr)\n",
    "        print(self.theta.shape)\n",
    "        print(self.theta)"
   ],
   "metadata": {
    "collapsed": false,
    "ExecuteTime": {
     "end_time": "2024-03-02T13:30:49.209569Z",
     "start_time": "2024-03-02T13:30:49.203796Z"
    }
   },
   "id": "97c1f10595f4412f",
   "execution_count": 92
  },
  {
   "cell_type": "code",
   "outputs": [
    {
     "name": "stdout",
     "output_type": "stream",
     "text": [
      "torch.Size([384])\n",
      "tensor([  1,   2,   3,   4,   5,   6,   7,   8,   9,  10,  11,  12,  13,  14,\n",
      "         15,  16,  17,  18,  19,  20,  21,  22,  23,  24,  25,  26,  27,  28,\n",
      "         29,  30,  31,  32,  33,  34,  35,  36,  37,  38,  39,  40,  41,  42,\n",
      "         43,  44,  45,  46,  47,  48,  49,  50,  51,  52,  53,  54,  55,  56,\n",
      "         57,  58,  59,  60,  61,  62,  63,  64,  65,  66,  67,  68,  69,  70,\n",
      "         71,  72,  73,  74,  75,  76,  77,  78,  79,  80,  81,  82,  83,  84,\n",
      "         85,  86,  87,  88,  89,  90,  91,  92,  93,  94,  95,  96,  97,  98,\n",
      "         99, 100, 101, 102, 103, 104, 105, 106, 107, 108, 109, 110, 111, 112,\n",
      "        113, 114, 115, 116, 117, 118, 119, 120, 121, 122, 123, 124, 125, 126,\n",
      "        127, 128, 129, 130, 131, 132, 133, 134, 135, 136, 137, 138, 139, 140,\n",
      "        141, 142, 143, 144, 145, 146, 147, 148, 149, 150, 151, 152, 153, 154,\n",
      "        155, 156, 157, 158, 159, 160, 161, 162, 163, 164, 165, 166, 167, 168,\n",
      "        169, 170, 171, 172, 173, 174, 175, 176, 177, 178, 179, 180, 181, 182,\n",
      "        183, 184, 185, 186, 187, 188, 189, 190, 191, 192, 193, 194, 195, 196,\n",
      "        197, 198, 199, 200, 201, 202, 203, 204, 205, 206, 207, 208, 209, 210,\n",
      "        211, 212, 213, 214, 215, 216, 217, 218, 219, 220, 221, 222, 223, 224,\n",
      "        225, 226, 227, 228, 229, 230, 231, 232, 233, 234, 235, 236, 237, 238,\n",
      "        239, 240, 241, 242, 243, 244, 245, 246, 247, 248, 249, 250, 251, 252,\n",
      "        253, 254, 255, 256, 257, 258, 259, 260, 261, 262, 263, 264, 265, 266,\n",
      "        267, 268, 269, 270, 271, 272, 273, 274, 275, 276, 277, 278, 279, 280,\n",
      "        281, 282, 283, 284, 285, 286, 287, 288, 289, 290, 291, 292, 293, 294,\n",
      "        295, 296, 297, 298, 299, 300, 301, 302, 303, 304, 305, 306, 307, 308,\n",
      "        309, 310, 311, 312, 313, 314, 315, 316, 317, 318, 319, 320, 321, 322,\n",
      "        323, 324, 325, 326, 327, 328, 329, 330, 331, 332, 333, 334, 335, 336,\n",
      "        337, 338, 339, 340, 341, 342, 343, 344, 345, 346, 347, 348, 349, 350,\n",
      "        351, 352, 353, 354, 355, 356, 357, 358, 359, 360, 361, 362, 363, 364,\n",
      "        365, 366, 367, 368, 369, 370, 371, 372, 373, 374, 375, 376, 377, 378,\n",
      "        379, 380, 381, 382, 383, 384])\n",
      "torch.Size([384])\n",
      "tensor([1.0000e+00, 9.7630e-01, 9.5316e-01, 9.3057e-01, 9.0852e-01, 8.8699e-01,\n",
      "        8.6596e-01, 8.4544e-01, 8.2540e-01, 8.0584e-01, 7.8674e-01, 7.6810e-01,\n",
      "        7.4989e-01, 7.3212e-01, 7.1477e-01, 6.9783e-01, 6.8129e-01, 6.6515e-01,\n",
      "        6.4938e-01, 6.3399e-01, 6.1897e-01, 6.0430e-01, 5.8997e-01, 5.7599e-01,\n",
      "        5.6234e-01, 5.4901e-01, 5.3600e-01, 5.2330e-01, 5.1090e-01, 4.9879e-01,\n",
      "        4.8697e-01, 4.7543e-01, 4.6416e-01, 4.5316e-01, 4.4242e-01, 4.3193e-01,\n",
      "        4.2170e-01, 4.1170e-01, 4.0195e-01, 3.9242e-01, 3.8312e-01, 3.7404e-01,\n",
      "        3.6517e-01, 3.5652e-01, 3.4807e-01, 3.3982e-01, 3.3177e-01, 3.2390e-01,\n",
      "        3.1623e-01, 3.0873e-01, 3.0142e-01, 2.9427e-01, 2.8730e-01, 2.8049e-01,\n",
      "        2.7384e-01, 2.6735e-01, 2.6102e-01, 2.5483e-01, 2.4879e-01, 2.4289e-01,\n",
      "        2.3714e-01, 2.3152e-01, 2.2603e-01, 2.2067e-01, 2.1544e-01, 2.1034e-01,\n",
      "        2.0535e-01, 2.0049e-01, 1.9573e-01, 1.9110e-01, 1.8657e-01, 1.8214e-01,\n",
      "        1.7783e-01, 1.7361e-01, 1.6950e-01, 1.6548e-01, 1.6156e-01, 1.5773e-01,\n",
      "        1.5399e-01, 1.5034e-01, 1.4678e-01, 1.4330e-01, 1.3991e-01, 1.3659e-01,\n",
      "        1.3335e-01, 1.3019e-01, 1.2711e-01, 1.2409e-01, 1.2115e-01, 1.1828e-01,\n",
      "        1.1548e-01, 1.1274e-01, 1.1007e-01, 1.0746e-01, 1.0491e-01, 1.0243e-01,\n",
      "        1.0000e-01, 9.7630e-02, 9.5316e-02, 9.3057e-02, 9.0852e-02, 8.8699e-02,\n",
      "        8.6596e-02, 8.4544e-02, 8.2540e-02, 8.0584e-02, 7.8674e-02, 7.6810e-02,\n",
      "        7.4989e-02, 7.3212e-02, 7.1477e-02, 6.9783e-02, 6.8129e-02, 6.6515e-02,\n",
      "        6.4938e-02, 6.3399e-02, 6.1897e-02, 6.0430e-02, 5.8997e-02, 5.7599e-02,\n",
      "        5.6234e-02, 5.4901e-02, 5.3600e-02, 5.2330e-02, 5.1090e-02, 4.9879e-02,\n",
      "        4.8697e-02, 4.7543e-02, 4.6416e-02, 4.5316e-02, 4.4242e-02, 4.3193e-02,\n",
      "        4.2170e-02, 4.1170e-02, 4.0195e-02, 3.9242e-02, 3.8312e-02, 3.7404e-02,\n",
      "        3.6517e-02, 3.5652e-02, 3.4807e-02, 3.3982e-02, 3.3177e-02, 3.2390e-02,\n",
      "        3.1623e-02, 3.0873e-02, 3.0142e-02, 2.9427e-02, 2.8730e-02, 2.8049e-02,\n",
      "        2.7384e-02, 2.6735e-02, 2.6102e-02, 2.5483e-02, 2.4879e-02, 2.4289e-02,\n",
      "        2.3714e-02, 2.3152e-02, 2.2603e-02, 2.2067e-02, 2.1544e-02, 2.1034e-02,\n",
      "        2.0535e-02, 2.0049e-02, 1.9573e-02, 1.9110e-02, 1.8657e-02, 1.8214e-02,\n",
      "        1.7783e-02, 1.7361e-02, 1.6950e-02, 1.6548e-02, 1.6156e-02, 1.5773e-02,\n",
      "        1.5399e-02, 1.5034e-02, 1.4678e-02, 1.4330e-02, 1.3991e-02, 1.3659e-02,\n",
      "        1.3335e-02, 1.3019e-02, 1.2711e-02, 1.2409e-02, 1.2115e-02, 1.1828e-02,\n",
      "        1.1548e-02, 1.1274e-02, 1.1007e-02, 1.0746e-02, 1.0491e-02, 1.0243e-02,\n",
      "        1.0000e-02, 9.7630e-03, 9.5316e-03, 9.3057e-03, 9.0852e-03, 8.8699e-03,\n",
      "        8.6596e-03, 8.4544e-03, 8.2540e-03, 8.0584e-03, 7.8674e-03, 7.6810e-03,\n",
      "        7.4989e-03, 7.3212e-03, 7.1477e-03, 6.9783e-03, 6.8129e-03, 6.6515e-03,\n",
      "        6.4938e-03, 6.3399e-03, 6.1897e-03, 6.0430e-03, 5.8997e-03, 5.7599e-03,\n",
      "        5.6234e-03, 5.4901e-03, 5.3600e-03, 5.2330e-03, 5.1090e-03, 4.9879e-03,\n",
      "        4.8697e-03, 4.7543e-03, 4.6416e-03, 4.5316e-03, 4.4242e-03, 4.3193e-03,\n",
      "        4.2170e-03, 4.1170e-03, 4.0195e-03, 3.9242e-03, 3.8312e-03, 3.7404e-03,\n",
      "        3.6517e-03, 3.5652e-03, 3.4807e-03, 3.3982e-03, 3.3177e-03, 3.2390e-03,\n",
      "        3.1623e-03, 3.0873e-03, 3.0142e-03, 2.9427e-03, 2.8730e-03, 2.8049e-03,\n",
      "        2.7384e-03, 2.6735e-03, 2.6102e-03, 2.5483e-03, 2.4879e-03, 2.4289e-03,\n",
      "        2.3714e-03, 2.3152e-03, 2.2603e-03, 2.2067e-03, 2.1544e-03, 2.1034e-03,\n",
      "        2.0535e-03, 2.0049e-03, 1.9573e-03, 1.9110e-03, 1.8657e-03, 1.8214e-03,\n",
      "        1.7783e-03, 1.7361e-03, 1.6950e-03, 1.6548e-03, 1.6156e-03, 1.5773e-03,\n",
      "        1.5399e-03, 1.5034e-03, 1.4678e-03, 1.4330e-03, 1.3991e-03, 1.3659e-03,\n",
      "        1.3335e-03, 1.3019e-03, 1.2711e-03, 1.2409e-03, 1.2115e-03, 1.1828e-03,\n",
      "        1.1548e-03, 1.1274e-03, 1.1007e-03, 1.0746e-03, 1.0491e-03, 1.0243e-03,\n",
      "        1.0000e-03, 9.7630e-04, 9.5316e-04, 9.3057e-04, 9.0852e-04, 8.8699e-04,\n",
      "        8.6596e-04, 8.4544e-04, 8.2540e-04, 8.0584e-04, 7.8674e-04, 7.6810e-04,\n",
      "        7.4989e-04, 7.3212e-04, 7.1477e-04, 6.9783e-04, 6.8129e-04, 6.6515e-04,\n",
      "        6.4938e-04, 6.3399e-04, 6.1897e-04, 6.0430e-04, 5.8997e-04, 5.7599e-04,\n",
      "        5.6234e-04, 5.4901e-04, 5.3600e-04, 5.2330e-04, 5.1090e-04, 4.9879e-04,\n",
      "        4.8697e-04, 4.7543e-04, 4.6416e-04, 4.5316e-04, 4.4242e-04, 4.3193e-04,\n",
      "        4.2170e-04, 4.1170e-04, 4.0195e-04, 3.9242e-04, 3.8312e-04, 3.7404e-04,\n",
      "        3.6517e-04, 3.5652e-04, 3.4807e-04, 3.3982e-04, 3.3177e-04, 3.2390e-04,\n",
      "        3.1623e-04, 3.0873e-04, 3.0142e-04, 2.9427e-04, 2.8730e-04, 2.8049e-04,\n",
      "        2.7384e-04, 2.6735e-04, 2.6102e-04, 2.5483e-04, 2.4879e-04, 2.4289e-04,\n",
      "        2.3714e-04, 2.3152e-04, 2.2603e-04, 2.2067e-04, 2.1544e-04, 2.1034e-04,\n",
      "        2.0535e-04, 2.0049e-04, 1.9573e-04, 1.9110e-04, 1.8657e-04, 1.8214e-04,\n",
      "        1.7783e-04, 1.7361e-04, 1.6950e-04, 1.6548e-04, 1.6156e-04, 1.5773e-04,\n",
      "        1.5399e-04, 1.5034e-04, 1.4678e-04, 1.4330e-04, 1.3991e-04, 1.3659e-04,\n",
      "        1.3335e-04, 1.3019e-04, 1.2711e-04, 1.2409e-04, 1.2115e-04, 1.1828e-04,\n",
      "        1.1548e-04, 1.1274e-04, 1.1007e-04, 1.0746e-04, 1.0491e-04, 1.0243e-04])\n"
     ]
    }
   ],
   "source": [
    "test = RoPE()\n",
    "test()"
   ],
   "metadata": {
    "collapsed": false,
    "ExecuteTime": {
     "end_time": "2024-03-02T13:30:49.213790Z",
     "start_time": "2024-03-02T13:30:49.206814Z"
    }
   },
   "id": "938bd92df37c8366",
   "execution_count": 93
  },
  {
   "cell_type": "code",
   "outputs": [],
   "source": [],
   "metadata": {
    "collapsed": false,
    "ExecuteTime": {
     "end_time": "2024-03-02T13:30:49.227687Z",
     "start_time": "2024-03-02T13:30:49.213511Z"
    }
   },
   "id": "e598d761ff00999a",
   "execution_count": 93
  }
 ],
 "metadata": {
  "kernelspec": {
   "display_name": "Python 3",
   "language": "python",
   "name": "python3"
  },
  "language_info": {
   "codemirror_mode": {
    "name": "ipython",
    "version": 2
   },
   "file_extension": ".py",
   "mimetype": "text/x-python",
   "name": "python",
   "nbconvert_exporter": "python",
   "pygments_lexer": "ipython2",
   "version": "2.7.6"
  }
 },
 "nbformat": 4,
 "nbformat_minor": 5
}
